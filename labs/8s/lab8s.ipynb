{
 "cells": [
  {
   "cell_type": "code",
   "execution_count": 1,
   "metadata": {},
   "outputs": [],
   "source": [
    "import os\n",
    "import sys"
   ]
  },
  {
   "cell_type": "code",
   "execution_count": 2,
   "metadata": {},
   "outputs": [
    {
     "name": "stdout",
     "output_type": "stream",
     "text": [
      "Welcome to\n",
      "      ____              __\n",
      "     / __/__  ___ _____/ /__\n",
      "    _\\ \\/ _ \\/ _ `/ __/  '_/\n",
      "   /__ / .__/\\_,_/_/ /_/\\_\\   version 2.4.3\n",
      "      /_/\n",
      "\n",
      "Using Python version 3.6.5 (default, Apr 29 2018 16:14:56)\n",
      "SparkSession available as 'spark'.\n"
     ]
    }
   ],
   "source": [
    "os.environ[\"PYSPARK_SUBMIT_ARGS\"]='--conf spark.sql.catalogImplementation=in-memory pyspark-shell'\n",
    "os.environ[\"PYSPARK_PYTHON\"]='/opt/anaconda/envs/bd9/bin/python'\n",
    "os.environ[\"SPARK_HOME\"]='/usr/hdp/current/spark2-client'\n",
    "\n",
    "spark_home = os.environ.get('SPARK_HOME', None)\n",
    "if not spark_home:\n",
    "    raise ValueError('SPARK_HOME environment variable is not set')\n",
    "sys.path.insert(0, os.path.join(spark_home, 'python'))\n",
    "sys.path.insert(0, os.path.join(spark_home, 'python/lib/py4j-0.10.7-src.zip'))\n",
    "exec(open(os.path.join(spark_home, 'python/pyspark/shell.py')).read())"
   ]
  },
  {
   "cell_type": "code",
   "execution_count": 3,
   "metadata": {},
   "outputs": [],
   "source": [
    "from pyspark.sql.types import *\n",
    "from pyspark.sql import Window\n",
    "import pyspark.sql.functions as f\n",
    "import json"
   ]
  },
  {
   "cell_type": "code",
   "execution_count": 4,
   "metadata": {},
   "outputs": [],
   "source": [
    "films_schema = StructType(fields=[\n",
    "    StructField(\"user_id\", IntegerType()),\n",
    "    StructField(\"film_id\", IntegerType()),\n",
    "    StructField(\"score\", IntegerType()),\n",
    "    StructField(\"time\", StringType())\n",
    "])"
   ]
  },
  {
   "cell_type": "code",
   "execution_count": 5,
   "metadata": {},
   "outputs": [],
   "source": [
    "films_data = spark.read.schema(films_schema).format('csv').option(\"sep\",\"\\t\").load(\"/labs/lab06data/ml-100k/u.data\")"
   ]
  },
  {
   "cell_type": "code",
   "execution_count": 6,
   "metadata": {},
   "outputs": [],
   "source": [
    "average_rating = films_data.select((f.sum(films_data.score)/f.count(films_data.film_id)).alias(\"average_rating\")).collect()[0]['average_rating']"
   ]
  },
  {
   "cell_type": "code",
   "execution_count": 7,
   "metadata": {},
   "outputs": [],
   "source": [
    "base_user_predictor = films_data.groupBy(\"user_id\").agg((1/(f.count(films_data.film_id)+10)*f.sum(films_data.score-average_rating)).alias('user_predictor'))"
   ]
  },
  {
   "cell_type": "code",
   "execution_count": 8,
   "metadata": {},
   "outputs": [],
   "source": [
    "films_data_with_user_predictor = films_data.join(base_user_predictor, on='user_id', how='inner')"
   ]
  },
  {
   "cell_type": "code",
   "execution_count": 9,
   "metadata": {},
   "outputs": [],
   "source": [
    "base_film_predictor = films_data_with_user_predictor.groupBy(\"film_id\")\\\n",
    ".agg((1/(f.count(films_data_with_user_predictor.user_id)+25)*f.sum(films_data_with_user_predictor.score\n",
    "                                -films_data_with_user_predictor.user_predictor-average_rating)).alias('film_predictor'))"
   ]
  },
  {
   "cell_type": "code",
   "execution_count": 10,
   "metadata": {},
   "outputs": [],
   "source": [
    "predictors_combined_all = base_film_predictor.crossJoin(base_user_predictor)\\\n",
    ".withColumn(\"total_predictor\", base_user_predictor.user_predictor+base_film_predictor.film_predictor+average_rating)"
   ]
  },
  {
   "cell_type": "code",
   "execution_count": 11,
   "metadata": {},
   "outputs": [],
   "source": [
    "predictors_combined = films_data_with_user_predictor.join(base_film_predictor, on='film_id', how='inner')\\\n",
    ".withColumn(\"total_predictor\", films_data_with_user_predictor.user_predictor+base_film_predictor.film_predictor+average_rating)"
   ]
  },
  {
   "cell_type": "code",
   "execution_count": 12,
   "metadata": {},
   "outputs": [],
   "source": [
    "predictors_relative = predictors_combined.select(predictors_combined.film_id, predictors_combined.user_id,\n",
    "                                                (predictors_combined.score-predictors_combined.total_predictor)\\\n",
    "                                                 .alias('relative_predictor'))"
   ]
  },
  {
   "cell_type": "code",
   "execution_count": 13,
   "metadata": {},
   "outputs": [],
   "source": [
    "predictors_relative_2 = predictors_relative.select(predictors_relative.film_id.alias(\"film_id2\"),\n",
    "                                                  predictors_relative.user_id.alias(\"user_id2\"),\n",
    "                                                  predictors_relative.relative_predictor.alias(\"relative_predictor2\"))"
   ]
  },
  {
   "cell_type": "code",
   "execution_count": 14,
   "metadata": {},
   "outputs": [],
   "source": [
    "predictors_relative_all = predictors_relative_2.join(predictors_combined_all, on=((predictors_relative_2.user_id2==predictors_combined_all.user_id)&\\\n",
    "                                                     (predictors_relative_2.film_id2==predictors_combined_all.film_id)), how='right')\\\n",
    ".select(\"film_id\", 'film_predictor','user_id','user_predictor','total_predictor',\n",
    "        predictors_relative_2.relative_predictor2.alias('relative_predictor')).na.fill(0)"
   ]
  },
  {
   "cell_type": "code",
   "execution_count": 15,
   "metadata": {},
   "outputs": [],
   "source": [
    "predictors_relative_all_2 = predictors_relative_all.select(predictors_relative_all.film_id.alias(\"film_id2\"),\n",
    "                                                  predictors_relative_all.user_id.alias(\"user_id2\"),\n",
    "                                                  predictors_relative_all.relative_predictor.alias(\"relative_predictor2\"))"
   ]
  },
  {
   "cell_type": "code",
   "execution_count": 16,
   "metadata": {},
   "outputs": [],
   "source": [
    "films_joined = predictors_relative_all.join(predictors_relative_all_2,\n",
    "                                      on=((predictors_relative_all.user_id == predictors_relative_all_2.user_id2)&\\\n",
    "                                         (predictors_relative_all.film_id!=predictors_relative_all_2.film_id2)), how='inner')"
   ]
  },
  {
   "cell_type": "code",
   "execution_count": 17,
   "metadata": {},
   "outputs": [],
   "source": [
    "films_distance = films_joined.groupBy('film_id', 'film_id2').agg((f.sum(films_joined.relative_predictor\\\n",
    "                                                     *films_joined.relative_predictor2)\\\n",
    "                                              /f.pow(f.sum(f.pow(films_joined.relative_predictor,2))\\\n",
    "                                                     *f.sum(f.pow(films_joined.relative_predictor2,2)),0.5)).alias(\"distance\")).cache()"
   ]
  },
  {
   "cell_type": "code",
   "execution_count": 18,
   "metadata": {},
   "outputs": [],
   "source": [
    "user_id = 804"
   ]
  },
  {
   "cell_type": "code",
   "execution_count": 19,
   "metadata": {},
   "outputs": [],
   "source": [
    "scored_films = list(films_data.filter(films_data.user_id==user_id).select(films_data.film_id).toPandas().film_id)"
   ]
  },
  {
   "cell_type": "code",
   "execution_count": 20,
   "metadata": {},
   "outputs": [],
   "source": [
    "films_distance_not_scored = films_distance[~films_distance.film_id.isin(scored_films)]"
   ]
  },
  {
   "cell_type": "code",
   "execution_count": 21,
   "metadata": {},
   "outputs": [],
   "source": [
    "film_window = Window.partitionBy(films_distance_not_scored['film_id']).orderBy(films_distance_not_scored['distance'].desc(),\n",
    "                                                                              films_distance_not_scored['film_id2'])"
   ]
  },
  {
   "cell_type": "code",
   "execution_count": 22,
   "metadata": {},
   "outputs": [],
   "source": [
    "neareast_films = films_distance_not_scored.select('*', f.row_number().over(film_window).alias('rank')).where('rank < 31')"
   ]
  },
  {
   "cell_type": "code",
   "execution_count": 23,
   "metadata": {},
   "outputs": [],
   "source": [
    "predictors_combined_all_cur_user = predictors_combined_all.filter(predictors_combined_all.user_id == user_id)"
   ]
  },
  {
   "cell_type": "code",
   "execution_count": 24,
   "metadata": {},
   "outputs": [],
   "source": [
    "neareast_films_with_predictors = neareast_films\\\n",
    ".join(predictors_relative_2.filter(predictors_relative_2.user_id2==user_id), on='film_id2', how='inner')"
   ]
  },
  {
   "cell_type": "code",
   "execution_count": 25,
   "metadata": {},
   "outputs": [],
   "source": [
    "almost_final = neareast_films_with_predictors.groupBy('film_id')\\\n",
    ".agg((f.sum(neareast_films_with_predictors.distance\\\n",
    "            *(neareast_films_with_predictors.relative_predictor2))/f.sum(f.abs(neareast_films_with_predictors.distance)))\\\n",
    "     .alias(\"score\")).join(predictors_combined_all_cur_user, on='film_id', how='inner')"
   ]
  },
  {
   "cell_type": "code",
   "execution_count": 26,
   "metadata": {},
   "outputs": [],
   "source": [
    "final_1 = almost_final.select(almost_final.film_id, (almost_final.score+almost_final.total_predictor).alias(\"final_score\"))\\\n",
    ".orderBy('final_score', ascending=False).limit(10)"
   ]
  },
  {
   "cell_type": "code",
   "execution_count": 27,
   "metadata": {},
   "outputs": [],
   "source": [
    "predicators_top10 = list(final_1.toPandas().film_id)"
   ]
  },
  {
   "cell_type": "code",
   "execution_count": 28,
   "metadata": {},
   "outputs": [],
   "source": [
    "almost_final2 = neareast_films_with_predictors.filter(neareast_films_with_predictors.distance>=0).groupBy('film_id')\\\n",
    ".agg((f.sum(neareast_films_with_predictors.distance\\\n",
    "            *(neareast_films_with_predictors.relative_predictor2))/f.sum(f.abs(neareast_films_with_predictors.distance)))\\\n",
    "     .alias(\"score\")).join(predictors_combined_all_cur_user, on='film_id', how='inner')"
   ]
  },
  {
   "cell_type": "code",
   "execution_count": 29,
   "metadata": {},
   "outputs": [],
   "source": [
    "final_2 = almost_final2.select(almost_final2.film_id, (almost_final2.score+almost_final2.total_predictor).alias(\"final_score\"))\\\n",
    ".orderBy('final_score', ascending=False).limit(10)"
   ]
  },
  {
   "cell_type": "code",
   "execution_count": 30,
   "metadata": {},
   "outputs": [],
   "source": [
    "predicators_positive_top10 = list(final_2.toPandas().film_id)"
   ]
  },
  {
   "cell_type": "code",
   "execution_count": 31,
   "metadata": {},
   "outputs": [],
   "source": [
    "result = {}"
   ]
  },
  {
   "cell_type": "code",
   "execution_count": 32,
   "metadata": {},
   "outputs": [],
   "source": [
    "result['average_rating'] = average_rating\n",
    "result['predicators_top10'] = predicators_top10\n",
    "result['predicators_positive_top10'] = predicators_positive_top10"
   ]
  },
  {
   "cell_type": "code",
   "execution_count": 33,
   "metadata": {},
   "outputs": [],
   "source": [
    "with open(\"lab08s.json\", 'w') as file:\n",
    "    json.dump(result, file)"
   ]
  },
  {
   "cell_type": "code",
   "execution_count": 34,
   "metadata": {},
   "outputs": [],
   "source": [
    "sc.stop()"
   ]
  }
 ],
 "metadata": {
  "kernelspec": {
   "display_name": "Python 3",
   "language": "python",
   "name": "python3"
  },
  "language_info": {
   "codemirror_mode": {
    "name": "ipython",
    "version": 3
   },
   "file_extension": ".py",
   "mimetype": "text/x-python",
   "name": "python",
   "nbconvert_exporter": "python",
   "pygments_lexer": "ipython3",
   "version": "3.6.5"
  }
 },
 "nbformat": 4,
 "nbformat_minor": 2
}
