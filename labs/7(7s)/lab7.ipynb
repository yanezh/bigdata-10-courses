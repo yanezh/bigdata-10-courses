{
 "cells": [
  {
   "cell_type": "code",
   "execution_count": 1,
   "metadata": {},
   "outputs": [],
   "source": [
    "import os\n",
    "import sys\n",
    "import json\n",
    "import pandas as pd\n",
    "import json\n",
    "from sklearn.feature_extraction.text import TfidfVectorizer, ENGLISH_STOP_WORDS\n",
    "import numpy as np"
   ]
  },
  {
   "cell_type": "code",
   "execution_count": 2,
   "metadata": {},
   "outputs": [],
   "source": [
    "with open(\"DO_record_per_line.json\", encoding='utf-8') as file:\n",
    "    data = file.readlines()\n",
    "data = list(map(lambda x: json.loads(x),data))\n",
    "data = pd.DataFrame(data)"
   ]
  },
  {
   "cell_type": "code",
   "execution_count": 3,
   "metadata": {},
   "outputs": [],
   "source": [
    "def calc_cosine(a,b):\n",
    "    if sum(a) == 0 or sum(b) == 0:\n",
    "        return 0\n",
    "    return sum(a*b)/np.sqrt(sum(a**2)*sum(b**2))"
   ]
  },
  {
   "cell_type": "code",
   "execution_count": 4,
   "metadata": {},
   "outputs": [],
   "source": [
    "target_courses=[[21545, u'en', u\"The Divine Comedy: Dante's Journey to Freedom, Part 2 (Purgatorio)\"], [7802, u'en', u'AE1110x: Introduction to Aeronautical Engineering'], [26228, u'es', u'Como ser Excelente Alumno - Udemy'], [196, u'es', u'Egiptolog\\xeda (Egyptology)'], [12917, u'ru', u'\\u041f\\u0440\\u0438\\u043d\\u0446\\u0438\\u043f\\u044b \\u044d\\u0444\\u0444\\u0435\\u043a\\u0442\\u0438\\u0432\\u043d\\u043e\\u0433\\u043e \\u0443\\u043f\\u0440\\u0430\\u0432\\u043b\\u0435\\u043d\\u0438\\u044f \\u0438\\u043d\\u0432\\u0435\\u0441\\u0442\\u0438\\u0446\\u0438\\u043e\\u043d\\u043d\\u044b\\u043c\\u0438 \\u043f\\u0440\\u043e\\u0435\\u043a\\u0442\\u0430\\u043c\\u0438'], [21319, u'ru', u'\\u041a\\u043e\\u043c\\u043f\\u0435\\u0442\\u0435\\u043d\\u0442\\u043d\\u043e\\u0441\\u0442\\u043d\\u043e-\\u043e\\u0440\\u0438\\u0435\\u043d\\u0442\\u0438\\u0440\\u043e\\u0432\\u0430\\u043d\\u043d\\u043e\\u0435 \\u043e\\u0431\\u0443\\u0447\\u0435\\u043d\\u0438\\u0435 \\u0432 \\u0432\\u044b\\u0441\\u0448\\u0435\\u043c \\u043e\\u0431\\u0440\\u0430\\u0437\\u043e\\u0432\\u0430\\u043d\\u0438\\u0438']]"
   ]
  },
  {
   "cell_type": "code",
   "execution_count": 5,
   "metadata": {},
   "outputs": [],
   "source": [
    "target_df = pd.DataFrame(target_courses, columns=['id','lang','name'])"
   ]
  },
  {
   "cell_type": "code",
   "execution_count": 6,
   "metadata": {},
   "outputs": [],
   "source": [
    "languages = target_df.lang.unique()"
   ]
  },
  {
   "cell_type": "code",
   "execution_count": 7,
   "metadata": {},
   "outputs": [],
   "source": [
    "result = {}\n",
    "for lang in languages:\n",
    "    data_lang = data[data.lang == lang].reset_index()\n",
    "    vectorizer = TfidfVectorizer(max_features=25000, stop_words=ENGLISH_STOP_WORDS)\n",
    "    data_tfidf = vectorizer.fit_transform(data_lang.desc).toarray()\n",
    "    for course_id in target_df[target_df.lang==lang].id:\n",
    "        row_number = data_lang[data_lang.id==course_id].index[0]\n",
    "        result_dict = {}\n",
    "        for i in range(len(data_tfidf)):\n",
    "            if i != row_number:\n",
    "                result_dict[int(data_lang.iloc[i].id)] = calc_cosine(data_tfidf[row_number], data_tfidf[i])\n",
    "        result_tup = [(key, result_dict[key]) for key in result_dict.keys()]\n",
    "        result[course_id]= np.array(sorted(result_tup,key=lambda x:-x[1]))[:10,0]\n",
    "            "
   ]
  },
  {
   "cell_type": "code",
   "execution_count": 8,
   "metadata": {},
   "outputs": [],
   "source": [
    "for key in result.keys():\n",
    "    result[key] = list(map(int, result[key]))"
   ]
  },
  {
   "cell_type": "code",
   "execution_count": 9,
   "metadata": {},
   "outputs": [],
   "source": [
    "with open(\"lab07.json\", 'w') as file:\n",
    "    json.dump(result,file)"
   ]
  },
  {
   "cell_type": "code",
   "execution_count": null,
   "metadata": {},
   "outputs": [],
   "source": []
  }
 ],
 "metadata": {
  "kernelspec": {
   "display_name": "Python 3",
   "language": "python",
   "name": "python3"
  },
  "language_info": {
   "codemirror_mode": {
    "name": "ipython",
    "version": 3
   },
   "file_extension": ".py",
   "mimetype": "text/x-python",
   "name": "python",
   "nbconvert_exporter": "python",
   "pygments_lexer": "ipython3",
   "version": "3.6.5"
  }
 },
 "nbformat": 4,
 "nbformat_minor": 2
}
