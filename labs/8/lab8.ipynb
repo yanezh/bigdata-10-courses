{
 "cells": [
  {
   "cell_type": "code",
   "execution_count": 1,
   "metadata": {},
   "outputs": [],
   "source": [
    "import os\n",
    "import sys"
   ]
  },
  {
   "cell_type": "code",
   "execution_count": 2,
   "metadata": {},
   "outputs": [
    {
     "name": "stdout",
     "output_type": "stream",
     "text": [
      "Welcome to\n",
      "      ____              __\n",
      "     / __/__  ___ _____/ /__\n",
      "    _\\ \\/ _ \\/ _ `/ __/  '_/\n",
      "   /__ / .__/\\_,_/_/ /_/\\_\\   version 2.4.3\n",
      "      /_/\n",
      "\n",
      "Using Python version 3.6.5 (default, Apr 29 2018 16:14:56)\n",
      "SparkSession available as 'spark'.\n"
     ]
    }
   ],
   "source": [
    "os.environ[\"PYSPARK_SUBMIT_ARGS\"]='--conf spark.sql.catalogImplementation=in-memory pyspark-shell'\n",
    "os.environ[\"PYSPARK_PYTHON\"]='/opt/anaconda/envs/bd9/bin/python'\n",
    "os.environ[\"SPARK_HOME\"]='/usr/hdp/current/spark2-client'\n",
    "\n",
    "spark_home = os.environ.get('SPARK_HOME', None)\n",
    "if not spark_home:\n",
    "    raise ValueError('SPARK_HOME environment variable is not set')\n",
    "sys.path.insert(0, os.path.join(spark_home, 'python'))\n",
    "sys.path.insert(0, os.path.join(spark_home, 'python/lib/py4j-0.10.7-src.zip'))\n",
    "exec(open(os.path.join(spark_home, 'python/pyspark/shell.py')).read())"
   ]
  },
  {
   "cell_type": "code",
   "execution_count": 3,
   "metadata": {},
   "outputs": [],
   "source": [
    "from pyspark.sql.types import *\n",
    "import pyspark.sql.functions as f\n",
    "import json"
   ]
  },
  {
   "cell_type": "code",
   "execution_count": 4,
   "metadata": {},
   "outputs": [],
   "source": [
    "films_schema = StructType(fields=[\n",
    "    StructField(\"user_id\", IntegerType()),\n",
    "    StructField(\"film_id\", IntegerType()),\n",
    "    StructField(\"score\", IntegerType()),\n",
    "    StructField(\"time\", StringType())\n",
    "])"
   ]
  },
  {
   "cell_type": "code",
   "execution_count": 5,
   "metadata": {},
   "outputs": [],
   "source": [
    "films_data = spark.read.schema(films_schema).format('csv').option(\"sep\",\"\\t\").load(\"/labs/lab06data/ml-100k/u.data\")"
   ]
  },
  {
   "cell_type": "code",
   "execution_count": 6,
   "metadata": {},
   "outputs": [],
   "source": [
    "users_amount = films_data.groupBy(\"user_id\").count()"
   ]
  },
  {
   "cell_type": "code",
   "execution_count": 7,
   "metadata": {},
   "outputs": [],
   "source": [
    "average_user_ratings = films_data.select((f.count(\"score\")/f.countDistinct(\"user_id\")).alias(\"average_user_ratings\"))\\\n",
    ".collect()[0]['average_user_ratings']"
   ]
  },
  {
   "cell_type": "code",
   "execution_count": 8,
   "metadata": {},
   "outputs": [],
   "source": [
    "average_film_ratings = films_data.select((f.count(\"score\")/f.countDistinct(\"film_id\")).alias(\"average_film_ratings\"))\\\n",
    ".collect()[0]['average_film_ratings']"
   ]
  },
  {
   "cell_type": "code",
   "execution_count": 9,
   "metadata": {},
   "outputs": [],
   "source": [
    "completeness = films_data.select((f.count(\"score\")/(f.countDistinct(\"film_id\")*f.countDistinct(\"user_id\")))\\\n",
    "                                .alias(\"completeness\"))\\\n",
    ".collect()[0]['completeness']"
   ]
  },
  {
   "cell_type": "code",
   "execution_count": 10,
   "metadata": {},
   "outputs": [],
   "source": [
    "user_id = 804"
   ]
  },
  {
   "cell_type": "code",
   "execution_count": 11,
   "metadata": {},
   "outputs": [],
   "source": [
    "user_avg_score = films_data.groupBy(\"user_id\").agg((f.sum('score')/f.count('*')).alias('avg_score'))"
   ]
  },
  {
   "cell_type": "code",
   "execution_count": 12,
   "metadata": {},
   "outputs": [],
   "source": [
    "films_data_avg_score = films_data.join(user_avg_score, on='user_id', how='inner')"
   ]
  },
  {
   "cell_type": "code",
   "execution_count": 13,
   "metadata": {},
   "outputs": [],
   "source": [
    "films_rel_score = films_data_avg_score.select(films_data_avg_score.user_id,\n",
    "                           films_data_avg_score.film_id,\n",
    "                           (films_data_avg_score.score-films_data_avg_score.avg_score).alias(\"rel_score\"))"
   ]
  },
  {
   "cell_type": "code",
   "execution_count": 14,
   "metadata": {},
   "outputs": [],
   "source": [
    "my_user_data = films_rel_score.filter(films_rel_score.user_id==user_id)"
   ]
  },
  {
   "cell_type": "code",
   "execution_count": 15,
   "metadata": {},
   "outputs": [],
   "source": [
    "another_users_data = films_rel_score.filter(films_rel_score.user_id!=user_id).select(films_rel_score.user_id.alias(\"user_id2\"),\n",
    "                                                                          films_rel_score.film_id,\n",
    "                                                                          films_rel_score.rel_score.alias(\"rel_score2\"))"
   ]
  },
  {
   "cell_type": "code",
   "execution_count": 16,
   "metadata": {},
   "outputs": [],
   "source": [
    "films_joined = my_user_data.join(another_users_data, on='film_id', how='inner')"
   ]
  },
  {
   "cell_type": "code",
   "execution_count": 17,
   "metadata": {},
   "outputs": [],
   "source": [
    "@f.pandas_udf(DoubleType())\n",
    "def get_score(amounts):\n",
    "    return amounts.apply(lambda x: min(1, x/50))"
   ]
  },
  {
   "cell_type": "code",
   "execution_count": 18,
   "metadata": {},
   "outputs": [],
   "source": [
    "user_scores = films_joined.groupBy(\"user_id2\").agg((f.sum(films_joined.rel_score*films_joined.rel_score2)/f.pow((f.sum(f.pow(films_joined.rel_score,2))*\\\n",
    "                                                                                           f.sum(f.pow(films_joined.rel_score2,2))),0.5)).alias(\"dist\"),\n",
    "                                    f.count('user_id2').alias('film_amount')).withColumn('correction', get_score(\"film_amount\"))"
   ]
  },
  {
   "cell_type": "code",
   "execution_count": 19,
   "metadata": {},
   "outputs": [],
   "source": [
    "user_final_scores = user_scores.select(user_scores.user_id2, (user_scores.dist*user_scores.correction).alias(\"final_score\"))\\\n",
    ".orderBy('final_score',ascending=False).limit(30)"
   ]
  },
  {
   "cell_type": "code",
   "execution_count": 20,
   "metadata": {},
   "outputs": [],
   "source": [
    "top30_users = user_final_scores.toPandas()"
   ]
  },
  {
   "cell_type": "code",
   "execution_count": 21,
   "metadata": {},
   "outputs": [],
   "source": [
    "pearson_neighbours = list(top30_users.user_id2)"
   ]
  },
  {
   "cell_type": "code",
   "execution_count": 22,
   "metadata": {},
   "outputs": [],
   "source": [
    "final_score_with_rel_score = user_final_scores.join(another_users_data, on='user_id2', how='inner')"
   ]
  },
  {
   "cell_type": "code",
   "execution_count": 23,
   "metadata": {},
   "outputs": [],
   "source": [
    "films_scores = final_score_with_rel_score.groupBy('film_id').agg(\n",
    "(f.sum(final_score_with_rel_score.final_score*final_score_with_rel_score.rel_score2)\\\n",
    "    /f.sum(f.abs(final_score_with_rel_score.final_score))).alias('film_score')).orderBy('film_score', 'film_id',ascending=False)"
   ]
  },
  {
   "cell_type": "code",
   "execution_count": 24,
   "metadata": {},
   "outputs": [],
   "source": [
    "cur_user_films = list(my_user_data.toPandas().film_id)"
   ]
  },
  {
   "cell_type": "code",
   "execution_count": 25,
   "metadata": {},
   "outputs": [],
   "source": [
    "pearson_top10 = list(films_scores[~films_scores.film_id.isin(cur_user_films)].limit(10).toPandas().film_id)"
   ]
  },
  {
   "cell_type": "code",
   "execution_count": 26,
   "metadata": {},
   "outputs": [],
   "source": [
    "result = {\n",
    "    \"average_film_ratings\":average_film_ratings,\n",
    "    \"average_user_ratings\":average_user_ratings,\n",
    "    \"completeness\":completeness,\n",
    "    \"pearson_neighbours\":pearson_neighbours,\n",
    "    \"pearson_top10\":pearson_top10\n",
    "}"
   ]
  },
  {
   "cell_type": "code",
   "execution_count": 27,
   "metadata": {},
   "outputs": [],
   "source": [
    "with open(\"lab08.json\", 'w') as file:\n",
    "    json.dump(result, file)"
   ]
  },
  {
   "cell_type": "code",
   "execution_count": 28,
   "metadata": {},
   "outputs": [],
   "source": [
    "sc.stop()"
   ]
  }
 ],
 "metadata": {
  "kernelspec": {
   "display_name": "Python 3",
   "language": "python",
   "name": "python3"
  },
  "language_info": {
   "codemirror_mode": {
    "name": "ipython",
    "version": 3
   },
   "file_extension": ".py",
   "mimetype": "text/x-python",
   "name": "python",
   "nbconvert_exporter": "python",
   "pygments_lexer": "ipython3",
   "version": "3.6.5"
  }
 },
 "nbformat": 4,
 "nbformat_minor": 2
}
