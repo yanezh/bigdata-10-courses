{
 "cells": [
  {
   "cell_type": "code",
   "execution_count": 1,
   "metadata": {},
   "outputs": [],
   "source": [
    "import pandas as pd\n",
    "import numpy as np\n",
    "import os\n",
    "import re\n",
    "import math\n",
    "from sklearn.feature_extraction.text import TfidfVectorizer\n",
    "import json"
   ]
  },
  {
   "cell_type": "code",
   "execution_count": 2,
   "metadata": {},
   "outputs": [],
   "source": [
    "folder_path=\"/data/share/lab05data\"\n",
    "text_ids = [514, 1539, 3588, 2570, 3587, 2575, 174, 1553, 3603, 2583, 538, 3612, 30, 2079, 2592, 2081, 2225, 548, 2603, 55, 2618, 572, 2621, 62, 3139, 2628, 3141, 1098, 587, 588, 589, 2639, 3665, 85, 1622, 1111, 1419, 1632, 1634, 1131, 2158, 1647, 624, 2579, 3188, 2166, 2682, 3708, 1387, 3712, 3265, 2692, 133, 3719, 2185, 3722, 3723, 3213, 144, 3730, 3223, 2712, 153, 3745, 1188, 678, 3239, 3699, 1711, 984, 177, 3763, 2232, 1211, 701, 1726, 3264, 705, 3267, 712, 1225, 1228, 717, 3279, 1747, 1748, 3285, 2265, 293, 219, 3804, 1757, 2275, 1767, 1257, 748, 3795, 2174, 3827, 724, 245, 2809, 1274, 766, 257, 231, 3332, 1798, 2826, 3852, 3931, 2323, 1302, 1816, 1323, 800, 290, 2339, 1829, 2855, 3368, 299, 2350, 2863, 3378, 2355, 311, 312, 2361, 3901, 2187, 324, 3405, 3299, 3481, 3920, 337, 2389, 854, 343, 967, 347, 3420, 3426, 358, 2144, 2878, 1394, 1911, 888, 377, 383, 1920, 386, 3052, 2950, 903, 1929, 907, 1006, 913, 402, 2372, 917, 409, 2463, 1441, 2538, 421, 2982, 427, 429, 2480, 2010, 3508, 2485, 1439, 955, 3516, 455, 2504, 3020, 2028, 2006, 3544, 2469, 1500, 1501, 2531, 3580, 2026, 3564, 1517, 2030, 2544, 3576, 2901, 2043, 1020, 598]"
   ]
  },
  {
   "cell_type": "code",
   "execution_count": 3,
   "metadata": {},
   "outputs": [],
   "source": [
    "base_texts = []\n",
    "for filename in os.listdir(folder_path):\n",
    "    if filename.startswith(\"base\"):\n",
    "        with open(os.path.join(folder_path, filename), encoding='utf-8') as file:\n",
    "            text = file.read()\n",
    "            base_texts.append(text)"
   ]
  },
  {
   "cell_type": "code",
   "execution_count": 4,
   "metadata": {},
   "outputs": [],
   "source": [
    "test_texts = []\n",
    "for text_id in text_ids:\n",
    "    with open(os.path.join(folder_path, \"test_{}.txt\".format(text_id)), encoding='utf-8') as file:\n",
    "        text = file.read()\n",
    "        test_texts.append(text)"
   ]
  },
  {
   "cell_type": "code",
   "execution_count": 5,
   "metadata": {},
   "outputs": [
    {
     "data": {
      "text/plain": [
       "200"
      ]
     },
     "execution_count": 5,
     "metadata": {},
     "output_type": "execute_result"
    }
   ],
   "source": [
    "len(test_texts)"
   ]
  },
  {
   "cell_type": "code",
   "execution_count": 6,
   "metadata": {},
   "outputs": [],
   "source": [
    "def clear_text(text):\n",
    "    return re.sub(\"<[^>]*>\", \"\", text)"
   ]
  },
  {
   "cell_type": "code",
   "execution_count": 7,
   "metadata": {},
   "outputs": [],
   "source": [
    "base_texts = [clear_text(x) for x in base_texts]\n",
    "test_texts = [clear_text(x) for x in test_texts]"
   ]
  },
  {
   "cell_type": "code",
   "execution_count": 8,
   "metadata": {},
   "outputs": [],
   "source": [
    "def cos_simm(vector1, vector2):\n",
    "    a = np.array(vector1)\n",
    "    b = np.array(vector2)\n",
    "    return sum(a*b)/math.sqrt(sum(a**2)*sum(b**2))"
   ]
  },
  {
   "cell_type": "code",
   "execution_count": 9,
   "metadata": {},
   "outputs": [],
   "source": [
    "vectorizer = TfidfVectorizer()"
   ]
  },
  {
   "cell_type": "code",
   "execution_count": 10,
   "metadata": {},
   "outputs": [],
   "source": [
    "train = vectorizer.fit_transform(base_texts).toarray()\n",
    "test = vectorizer.transform(test_texts).toarray()"
   ]
  },
  {
   "cell_type": "code",
   "execution_count": 11,
   "metadata": {},
   "outputs": [],
   "source": [
    "scores = []\n",
    "for test_text_vector in test:\n",
    "    score = sum([cos_simm(x, test_text_vector) for x in train])\n",
    "    scores.append(score)"
   ]
  },
  {
   "cell_type": "code",
   "execution_count": 12,
   "metadata": {},
   "outputs": [],
   "source": [
    "threshold = sum(scores)/len(scores)"
   ]
  },
  {
   "cell_type": "code",
   "execution_count": 13,
   "metadata": {},
   "outputs": [],
   "source": [
    "defined = []\n",
    "others = []\n",
    "for i in range(len(text_ids)):\n",
    "    if scores[i] >= threshold:\n",
    "        defined.append(text_ids[i])\n",
    "    else:\n",
    "        others.append(text_ids[i])\n",
    "defined = sorted(defined)\n",
    "others = sorted(others)"
   ]
  },
  {
   "cell_type": "code",
   "execution_count": 14,
   "metadata": {},
   "outputs": [],
   "source": [
    "result = {\"defined\":defined, \"others\":others}"
   ]
  },
  {
   "cell_type": "code",
   "execution_count": 15,
   "metadata": {},
   "outputs": [],
   "source": [
    "result_json = json.dumps(result)\n",
    "with open(\"lab05.json\", 'w') as file:\n",
    "    file.write(result_json)"
   ]
  },
  {
   "cell_type": "code",
   "execution_count": null,
   "metadata": {},
   "outputs": [],
   "source": []
  }
 ],
 "metadata": {
  "kernelspec": {
   "display_name": "Python 3",
   "language": "python",
   "name": "python3"
  },
  "language_info": {
   "codemirror_mode": {
    "name": "ipython",
    "version": 3
   },
   "file_extension": ".py",
   "mimetype": "text/x-python",
   "name": "python",
   "nbconvert_exporter": "python",
   "pygments_lexer": "ipython3",
   "version": "3.6.5"
  }
 },
 "nbformat": 4,
 "nbformat_minor": 2
}
